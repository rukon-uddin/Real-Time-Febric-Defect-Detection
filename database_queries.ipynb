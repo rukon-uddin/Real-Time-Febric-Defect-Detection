{
 "cells": [
  {
   "cell_type": "code",
   "execution_count": 11,
   "metadata": {},
   "outputs": [],
   "source": [
    "import mysql.connector\n",
    "import pandas as pd\n",
    "import numpy as np\n",
    "from execute_queries import Exec_Q"
   ]
  },
  {
   "cell_type": "code",
   "execution_count": 12,
   "metadata": {},
   "outputs": [
    {
     "name": "stdout",
     "output_type": "stream",
     "text": [
      "<mysql.connector.connection_cext.CMySQLConnection object at 0x00000173AA18FEB0>\n"
     ]
    }
   ],
   "source": [
    "mydb = mysql.connector.connect(\n",
    "    host = \"localhost\",\n",
    "    user = \"root\",\n",
    "    passwd = \"root\",\n",
    "    database = \"defected_img\"\n",
    ")\n",
    "print(mydb)"
   ]
  },
  {
   "cell_type": "code",
   "execution_count": 13,
   "metadata": {},
   "outputs": [],
   "source": [
    "mycursor = mydb.cursor()"
   ]
  },
  {
   "cell_type": "code",
   "execution_count": 14,
   "metadata": {},
   "outputs": [],
   "source": [
    "mycursor.execute(\"DROP TABLE defects\")\n",
    "mydb.commit()"
   ]
  },
  {
   "cell_type": "code",
   "execution_count": 15,
   "metadata": {},
   "outputs": [],
   "source": [
    "mycursor.execute(\"CREATE TABLE defects (x VARCHAR(255), y VARCHAR(255), img VARCHAR(255))\")"
   ]
  },
  {
   "cell_type": "code",
   "execution_count": 9,
   "metadata": {},
   "outputs": [],
   "source": [
    "SELECT_ALL = \"SELECT img FROM defects\"\n",
    "mycursor.execute(SELECT_ALL)\n",
    "result = mycursor.fetchall()"
   ]
  },
  {
   "cell_type": "code",
   "execution_count": 15,
   "metadata": {},
   "outputs": [
    {
     "data": {
      "text/plain": [
       "['/static/109.jpg',\n",
       " '/static/55.jpg',\n",
       " '/static/55.jpg',\n",
       " '/static/55.jpg',\n",
       " '/static/167.jpg',\n",
       " '/static/471.jpg',\n",
       " '/static/201.jpg',\n",
       " '/static/430.jpg',\n",
       " '/static/99.jpg',\n",
       " '/static/167.jpg',\n",
       " '/static/168.jpg',\n",
       " '/static/398.jpg',\n",
       " '/static/107.jpg',\n",
       " '/static/49.jpg',\n",
       " '/static/47.jpg',\n",
       " '/static/47.jpg',\n",
       " '/static/46.jpg']"
      ]
     },
     "execution_count": 15,
     "metadata": {},
     "output_type": "execute_result"
    }
   ],
   "source": [
    "x = []\n",
    "for r in result:\n",
    "    t = r[0]\n",
    "    t = '/static/{}.jpg'.format(t)\n",
    "    x.append(t)\n",
    "x\n"
   ]
  },
  {
   "cell_type": "code",
   "execution_count": 2,
   "metadata": {},
   "outputs": [],
   "source": [
    "db = Exec_Q"
   ]
  },
  {
   "cell_type": "code",
   "execution_count": 6,
   "metadata": {},
   "outputs": [
    {
     "ename": "TypeError",
     "evalue": "Exec_Q.get_column() missing 1 required positional argument: 'self'",
     "output_type": "error",
     "traceback": [
      "\u001b[1;31m---------------------------------------------------------------------------\u001b[0m",
      "\u001b[1;31mTypeError\u001b[0m                                 Traceback (most recent call last)",
      "\u001b[1;32md:\\Users\\rukon\\Desktop\\capstone project\\models\\Full_system\\easy.ipynb Cell 7'\u001b[0m in \u001b[0;36m<cell line: 2>\u001b[1;34m()\u001b[0m\n\u001b[0;32m      <a href='vscode-notebook-cell:/d%3A/Users/rukon/Desktop/capstone%20project/models/Full_system/easy.ipynb#ch0000006?line=0'>1</a>\u001b[0m SELECT_ALL \u001b[39m=\u001b[39m \u001b[39m\"\u001b[39m\u001b[39mSELECT x FROM defects\u001b[39m\u001b[39m\"\u001b[39m\n\u001b[1;32m----> <a href='vscode-notebook-cell:/d%3A/Users/rukon/Desktop/capstone%20project/models/Full_system/easy.ipynb#ch0000006?line=1'>2</a>\u001b[0m res \u001b[39m=\u001b[39m db\u001b[39m.\u001b[39;49mget_column(GET_FORMULA\u001b[39m=\u001b[39;49mSELECT_ALL)\n",
      "\u001b[1;31mTypeError\u001b[0m: Exec_Q.get_column() missing 1 required positional argument: 'self'"
     ]
    }
   ],
   "source": [
    "SELECT_ALL = \"SELECT x FROM defects\"\n",
    "res = db.get_column(GET_FORMULA=SELECT_ALL)"
   ]
  },
  {
   "cell_type": "code",
   "execution_count": null,
   "metadata": {},
   "outputs": [],
   "source": []
  }
 ],
 "metadata": {
  "interpreter": {
   "hash": "61c2c8a6dbdf1731740fb28e8dc74ad59befdb4507c8d31568e6ec2a7e9a3fde"
  },
  "kernelspec": {
   "display_name": "Python 3.10.0 ('defect_det')",
   "language": "python",
   "name": "python3"
  },
  "language_info": {
   "codemirror_mode": {
    "name": "ipython",
    "version": 3
   },
   "file_extension": ".py",
   "mimetype": "text/x-python",
   "name": "python",
   "nbconvert_exporter": "python",
   "pygments_lexer": "ipython3",
   "version": "3.10.0"
  },
  "orig_nbformat": 4
 },
 "nbformat": 4,
 "nbformat_minor": 2
}
